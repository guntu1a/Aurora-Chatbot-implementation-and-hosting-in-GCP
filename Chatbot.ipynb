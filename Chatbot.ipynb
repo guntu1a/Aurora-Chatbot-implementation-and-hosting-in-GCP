{
 "cells": [
  {
   "cell_type": "markdown",
   "id": "95c34772",
   "metadata": {},
   "source": [
    "# Chat Bot by Amulya Gunturu"
   ]
  },
  {
   "cell_type": "code",
   "execution_count": 1,
   "id": "3993bc57",
   "metadata": {},
   "outputs": [],
   "source": [
    "import io # deals with input and outputs\n",
    "import nltk # Natural language tool kit\n",
    "import random # To pick a random response\n",
    "import string \n",
    "import numpy as np"
   ]
  },
  {
   "cell_type": "markdown",
   "id": "c40841a8",
   "metadata": {},
   "source": [
    "# Reading the input file, which is taken from Wiki"
   ]
  },
  {
   "cell_type": "code",
   "execution_count": 2,
   "id": "91e2d11c",
   "metadata": {},
   "outputs": [],
   "source": [
    "f = open(\"/Users/amulyagunturu/Desktop/Fall-2021/CPS525/NLP.txt\", mode = \"r\") # Contains the dump from Wiki\n",
    "\n",
    "r = f.read()\n",
    "r = r.lower()"
   ]
  },
  {
   "cell_type": "markdown",
   "id": "e0ac7e0c",
   "metadata": {},
   "source": [
    "# Tokenization"
   ]
  },
  {
   "cell_type": "code",
   "execution_count": 3,
   "id": "5decb916",
   "metadata": {},
   "outputs": [],
   "source": [
    "sent_tokens = nltk.sent_tokenize(r) # Breaking the file into individual sentences\n",
    "word_tokens = nltk.word_tokenize(r) # Breaking the file into words\n",
    "\n",
    "# sent_tokens[:2]\n",
    "# word_tokens[:2]"
   ]
  },
  {
   "cell_type": "markdown",
   "id": "fd99566a",
   "metadata": {},
   "source": [
    "# Stemming/lemmatizing and stripping punctuation"
   ]
  },
  {
   "cell_type": "code",
   "execution_count": 4,
   "id": "d316c558",
   "metadata": {},
   "outputs": [],
   "source": [
    "lemmer = nltk.stem.WordNetLemmatizer()\n",
    "\n",
    "def LemTokens(tokens):\n",
    "    return [lemmer.lemmatize(token) for token in tokens]\n",
    "\n",
    "remove_punct_dict = dict((ord(punct), None) for punct in string.punctuation) # Stripping out punctuation\n",
    "\n",
    "def LemNormalize(text):\n",
    "    return LemTokens(nltk.word_tokenize(text.lower().translate(remove_punct_dict)))\n"
   ]
  },
  {
   "cell_type": "markdown",
   "id": "4c88f779",
   "metadata": {},
   "source": [
    "# Greet Responses"
   ]
  },
  {
   "cell_type": "code",
   "execution_count": 5,
   "id": "b4df8a87",
   "metadata": {},
   "outputs": [],
   "source": [
    "greetinput = (\"hello\", \"hi\", \"greetings\", \"sup\", \"what's up\",\"hey\")\n",
    "greetresponse = [\"hi\", \"hey\", \"*nods*\", \"hi there\", \"hello\", \"I am glad! You are talking to me\"]\n",
    "def greet(sentence):\n",
    " \n",
    "    for word in sentence.split():\n",
    "        if word.lower() in greetinput:\n",
    "            return random.choice(greetresponse)"
   ]
  },
  {
   "cell_type": "markdown",
   "id": "e84b044c",
   "metadata": {},
   "source": [
    "# Breaking User Response and trying to look into input file for answers"
   ]
  },
  {
   "cell_type": "code",
   "execution_count": 6,
   "id": "68635c54",
   "metadata": {},
   "outputs": [],
   "source": [
    "def response(user_response):\n",
    "    robo_response = []\n",
    "    a = nltk.sent_tokenize(user_response)\n",
    "   # Have to read the input file based on the question. Failed to do!\n",
    "    if (len(user_response) == 0 ):\n",
    "        robo_response = robo_reponse + \"I am sorry! I don't understnd you\"\n",
    "        return robo_response\n",
    "    else:\n",
    "        robo_response = robo_response + a\n",
    "        return robo_response\n",
    "        \n",
    "    \n",
    "# response('NLP')"
   ]
  },
  {
   "cell_type": "markdown",
   "id": "51fef9d3",
   "metadata": {},
   "source": [
    "# Main Function"
   ]
  },
  {
   "cell_type": "code",
   "execution_count": 8,
   "id": "4ebbd1e8",
   "metadata": {},
   "outputs": [
    {
     "name": "stdout",
     "output_type": "stream",
     "text": [
      "Hi My name is Ams! I am here to answer any of your questions regarding NLP. If you think you are full in the brain today, type Bye!\n",
      "Hi\n",
      "Ams: I am glad! You are talking to me\n",
      "What is NLP?\n",
      "Ams: ['what is nlp?']\n",
      "Bye!\n",
      "Ams: ['bye!']\n",
      "bye\n",
      "Ams: Bye! I am gonna miss your questions until next time\n"
     ]
    }
   ],
   "source": [
    "flag = True\n",
    "\n",
    "print(\"Hi My name is Ams! I am here to answer any of your questions regarding NLP. If you think you are full in the brain today, type Bye!\")\n",
    "while (flag == True):\n",
    "    user_response = str(input())\n",
    "    user_response=user_response.lower()\n",
    "    # print(user_response)\n",
    "    if(user_response!=\"bye\"):\n",
    "        if(user_response== \"thanks\" or user_response== \"thank you\" ):\n",
    "            flag=False\n",
    "        else:\n",
    "            if(greet(user_response)!=None):\n",
    "                print(\"Ams: \"+ greet(user_response))\n",
    "            else:\n",
    "                print(\"Ams: \",end=\"\")\n",
    "                print(response(user_response))\n",
    "                #a.remove(user_response)\n",
    "    else:\n",
    "        flag=False\n",
    "        print(\"Ams: Bye! I am gonna miss your questions until next time\")\n"
   ]
  },
  {
   "cell_type": "code",
   "execution_count": null,
   "id": "ea4c8138",
   "metadata": {},
   "outputs": [],
   "source": []
  },
  {
   "cell_type": "code",
   "execution_count": null,
   "id": "8041019c",
   "metadata": {},
   "outputs": [],
   "source": []
  }
 ],
 "metadata": {
  "kernelspec": {
   "display_name": "Python 3",
   "language": "python",
   "name": "python3"
  },
  "language_info": {
   "codemirror_mode": {
    "name": "ipython",
    "version": 3
   },
   "file_extension": ".py",
   "mimetype": "text/x-python",
   "name": "python",
   "nbconvert_exporter": "python",
   "pygments_lexer": "ipython3",
   "version": "3.8.8"
  }
 },
 "nbformat": 4,
 "nbformat_minor": 5
}
